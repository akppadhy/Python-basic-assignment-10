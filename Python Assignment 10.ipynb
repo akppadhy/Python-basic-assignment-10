{
 "cells": [
  {
   "cell_type": "code",
   "execution_count": null,
   "id": "f514a558-9202-4eb0-8e4f-3fc7e9812810",
   "metadata": {},
   "outputs": [],
   "source": [
    "#1. How do you distinguish between shutil.copy() and shutil.copytree()?\n",
    "\n",
    "Ans. \"shutil.copy()\" will copy a single file.\"shutil.copytree()\" will copy an entire folder and every folder and file contained in it.\n"
   ]
  },
  {
   "cell_type": "code",
   "execution_count": null,
   "id": "41e40611-68c6-4af2-b46e-6ac43b08be57",
   "metadata": {},
   "outputs": [],
   "source": [
    "#2. What function is used to rename files?\n",
    "\n",
    "Ans. shutil.move will rename files."
   ]
  },
  {
   "cell_type": "code",
   "execution_count": null,
   "id": "0e04a285-bc58-4906-be6a-789a3f1c3ae8",
   "metadata": {},
   "outputs": [],
   "source": [
    "#3. What is the difference between the delete functions in the send2trash and shutil modules?\n",
    "\n",
    "Ans. shutil.rmtree() function irreversibly deletes files and folders. send2trash will send folders and files to computer's trash or recycle bin instead of permanently deleting them"
   ]
  },
  {
   "cell_type": "code",
   "execution_count": null,
   "id": "fecb1d65-4c84-4522-ae28-38b9dc925112",
   "metadata": {},
   "outputs": [],
   "source": [
    "#4. ZipFile objects have a close() method just like File objects’ close() method. What ZipFile method is equivalent to File objects’ open() method?\n",
    "\n",
    "Ans. ZipFile method is equivalant to File objects' open() method. For example,"
   ]
  },
  {
   "cell_type": "code",
   "execution_count": 1,
   "id": "7d5ea94c-55c9-4f99-bd24-ba34c93b0ebe",
   "metadata": {},
   "outputs": [],
   "source": [
    "import zipfile\n",
    "newZip = zipfile.ZipFile('new.zip', 'w')"
   ]
  },
  {
   "cell_type": "code",
   "execution_count": 2,
   "id": "bce20de4-1597-42c4-9eac-7d1f6cb09061",
   "metadata": {},
   "outputs": [
    {
     "name": "stdout",
     "output_type": "stream",
     "text": [
      "Looking in /home/jovyan/work/randomFolder for files with extensions of .php, .py\n"
     ]
    }
   ],
   "source": [
    "#5. Create a programme that searches a folder tree for files with a certain file extension (such as .pdf or .jpg). \n",
    "#Copy these files from whatever location they are in to a new folder.\n",
    "\n",
    "import os, shutil\n",
    "\n",
    "def selectiveCopy(folder, extensions, destFolder):\n",
    "    folder = os.path.abspath(folder)\n",
    "    destFolder = os.path.abspath(destFolder)\n",
    "    print('Looking in', folder, 'for files with extensions of', ', '.join(extensions))\n",
    "    for foldername, subfolders, filenames in os.walk(folder):\n",
    "        for filename in filenames:\n",
    "            name, extension = os.path.splitext(filename)\n",
    "            if extension in extensions:\n",
    "                fileAbsPath = foldername + os.path.sep + filename\n",
    "                print('Coping', fileAbsPath, 'to', destFolder)\n",
    "                shutil.copy(fileAbsPath, destFolder)\n",
    "\n",
    "extensions = ['.php', '.py']\n",
    "folder = 'randomFolder'\n",
    "destFolder = 'selectiveFolder'\n",
    "selectiveCopy(folder, extensions, destFolder)\n"
   ]
  },
  {
   "cell_type": "code",
   "execution_count": null,
   "id": "05556629-7837-4654-8821-0d7b03ca390e",
   "metadata": {},
   "outputs": [],
   "source": []
  }
 ],
 "metadata": {
  "kernelspec": {
   "display_name": "Python 3 (ipykernel)",
   "language": "python",
   "name": "python3"
  },
  "language_info": {
   "codemirror_mode": {
    "name": "ipython",
    "version": 3
   },
   "file_extension": ".py",
   "mimetype": "text/x-python",
   "name": "python",
   "nbconvert_exporter": "python",
   "pygments_lexer": "ipython3",
   "version": "3.10.6"
  }
 },
 "nbformat": 4,
 "nbformat_minor": 5
}
